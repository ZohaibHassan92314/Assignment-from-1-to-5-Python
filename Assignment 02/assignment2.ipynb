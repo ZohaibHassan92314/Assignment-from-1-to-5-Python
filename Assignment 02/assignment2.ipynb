{
 "cells": [
  {
   "cell_type": "markdown",
   "id": "9720ce44",
   "metadata": {},
   "source": [
    " (Conditional Statment)"
   ]
  },
  {
   "cell_type": "markdown",
   "id": "d6291197",
   "metadata": {},
   "source": [
    "Q: 01 A company decided to give bonus of 5% to employee if his/her year of service is more than 5 years. Ask user for their salary and year of service and print the net bonus amount."
   ]
  },
  {
   "cell_type": "code",
   "execution_count": 1,
   "id": "2249e400",
   "metadata": {},
   "outputs": [
    {
     "name": "stdout",
     "output_type": "stream",
     "text": [
      "You have %5 bonus in your salary 500.0\n",
      "Your total Salary After bonus 10500.0\n"
     ]
    }
   ],
   "source": [
    "salary = int(input(\"Enter your Salary: \"))\n",
    "years_of_service = int(input(\"Enter year of Experince: \"))\n",
    "if  years_of_service>= 6:\n",
    "    bonus = salary * 5 / 100\n",
    "    total_salary = salary + bonus\n",
    "    print(\"You have %5 bonus in your salary\", bonus)\n",
    "    print(\"Your total Salary After bonus\",total_salary)\n",
    "    \n",
    "else:\n",
    "    print(\"You are Not Eligible for Bonus!..\")"
   ]
  },
  {
   "cell_type": "markdown",
   "id": "93baed11",
   "metadata": {},
   "source": [
    "Q: 02 Write a program to check whether a person is eligible for voting or not. (accept age from user) if age is greater than 17 eligible otherwise not eligible"
   ]
  },
  {
   "cell_type": "code",
   "execution_count": 2,
   "metadata": {},
   "outputs": [
    {
     "name": "stdout",
     "output_type": "stream",
     "text": [
      "The Person in Eligible for vote\n"
     ]
    }
   ],
   "source": [
    "Age = int(input(\"Enter your Age: \"))\n",
    "if(Age>=18):\n",
    "    print(\"The Person in Eligible for vote\")\n",
    "else:\n",
    "    print(\"Not Eligible\")"
   ]
  },
  {
   "cell_type": "markdown",
   "id": "ae06894e",
   "metadata": {},
   "source": [
    "Q: 03 Write a program to check whether a number entered by user is even or odd."
   ]
  },
  {
   "cell_type": "code",
   "execution_count": 127,
   "id": "e149c7e6",
   "metadata": {},
   "outputs": [
    {
     "name": "stdout",
     "output_type": "stream",
     "text": [
      "The number is Odd\n",
      "The number user enter is 7 \n"
     ]
    }
   ],
   "source": [
    "num = int(input(\"Enter a Number: \"))\n",
    "if(num%2 == 0):\n",
    "    print(\"The Number is Even\")\n",
    "else:\n",
    "    print(\"The number is Odd\")\n",
    "print(f\"The number user enter is {num} \")"
   ]
  },
  {
   "cell_type": "markdown",
   "id": "8c47d637",
   "metadata": {},
   "source": [
    "Q: 04 Write a program to check whether a number is divisible by 7 or not. Show Answer"
   ]
  },
  {
   "cell_type": "code",
   "execution_count": 128,
   "id": "25ad093a",
   "metadata": {},
   "outputs": [
    {
     "name": "stdout",
     "output_type": "stream",
     "text": [
      "The number is divisible by 7\n",
      "The number enter by user is 21\n"
     ]
    }
   ],
   "source": [
    "num = int(input(\"Enter a Number: \"))\n",
    "if(num %7 == 0 ):\n",
    "    print(\"The number is divisible by 7\")\n",
    "else:\n",
    "    print(\"The number is not divisible by 7\")\n",
    "print(f\"The number enter by user is {num}\")"
   ]
  },
  {
   "cell_type": "markdown",
   "id": "ed897de1",
   "metadata": {},
   "source": [
    "Q: 05 Write a program to display \"Hello\" if a number entered by user is a multiple of five , otherwise print \"Bye\"."
   ]
  },
  {
   "cell_type": "code",
   "execution_count": 5,
   "id": "ea145c24",
   "metadata": {},
   "outputs": [
    {
     "name": "stdout",
     "output_type": "stream",
     "text": [
      "Hello\n",
      "The number that user enters 25\n"
     ]
    }
   ],
   "source": [
    "num = int(input(\"Enter a Number: \"))\n",
    "if(num % 5 == 0):\n",
    "    print(\"Hello\")\n",
    "else:\n",
    "    print(\"Bye!\")\n",
    "print(f\"The number that user enters {num}\")"
   ]
  },
  {
   "cell_type": "markdown",
   "id": "df05b49b",
   "metadata": {},
   "source": [
    "Q: 06 Write a program to display the last digit of a number."
   ]
  },
  {
   "cell_type": "code",
   "execution_count": 21,
   "id": "ed0d3a1c",
   "metadata": {},
   "outputs": [
    {
     "name": "stdout",
     "output_type": "stream",
     "text": [
      "The last digit of a number from 10 is 0\n"
     ]
    }
   ],
   "source": [
    "num = int(input(\"Enter a number: \"))\n",
    "last_digit = num %10\n",
    "if(last_digit<=9):\n",
    "    print(f\"The last digit of a number from {num} is {last_digit}\")\n"
   ]
  },
  {
   "cell_type": "markdown",
   "id": "de6a3a53",
   "metadata": {},
   "source": [
    "Q: 07 Take values of length and breadth of a rectangle from user and print if it is square or rectangle."
   ]
  },
  {
   "cell_type": "code",
   "execution_count": 26,
   "id": "bbabab5d",
   "metadata": {},
   "outputs": [
    {
     "name": "stdout",
     "output_type": "stream",
     "text": [
      "This is rectangle not an square\n",
      "the length is 7 and the breadth is 5\n"
     ]
    }
   ],
   "source": [
    "length = int(input(\"Enter a Length: \"))\n",
    "breadth = int(input(\"Enter a breadth: \"))\n",
    "if(length == breadth):\n",
    "    print(\"This is sqaure\")\n",
    "else:\n",
    "    print(\"This is rectangle not an square\")\n",
    "print(f\"the length is {length} and the breadth is {breadth}\")"
   ]
  },
  {
   "cell_type": "markdown",
   "id": "06c5447f",
   "metadata": {},
   "source": [
    "Q: 08 Take two int values from user and print greatest among them."
   ]
  },
  {
   "cell_type": "code",
   "execution_count": 31,
   "id": "0a1a857d",
   "metadata": {},
   "outputs": [
    {
     "name": "stdout",
     "output_type": "stream",
     "text": [
      "The Second value is greater than First value\n",
      "The value that user entered First 220 and Second 260 to check the greatest\n"
     ]
    }
   ],
   "source": [
    "value1 = int(input(\"Enter First Value: \"))\n",
    "value2 = int(input(\"Enter Second Number: \"))\n",
    "if(value1>value2):\n",
    "    print(\"The First value is greater than Second value\")\n",
    "elif(value1<value2):\n",
    "    print(\"The Second value is greater than First value\")\n",
    "else:\n",
    "    print(\"Both the values are equal\")\n",
    "print(f\"The value that user entered First {value1} and Second {value2} to check the greatest\")"
   ]
  },
  {
   "cell_type": "markdown",
   "id": "fa17499a",
   "metadata": {},
   "source": [
    "Q: 09 A shop will give discount of 10% if the cost of purchased quantity is more than 1000. Ask user for quantity Suppose, one unit will cost 100. Judge and print total cost for user."
   ]
  },
  {
   "cell_type": "code",
   "execution_count": 42,
   "id": "5f49c6aa",
   "metadata": {},
   "outputs": [
    {
     "name": "stdout",
     "output_type": "stream",
     "text": [
      "The user got 10% shop discount 130.0\n",
      "The total cost before shop discount of 10% 1300\n",
      "The total cost after shop discount of 10%  1170.0\n"
     ]
    }
   ],
   "source": [
    "Quantity = int(input(\"Enter the unit Quantity you want to purchase: \"))\n",
    "unit = Quantity * 100\n",
    "if(unit>1000):\n",
    "    shop_discount = unit * 10 / 100\n",
    "    total_costfor_user =  unit - shop_discount\n",
    "    print(f\"The user got 10% shop discount {shop_discount}\")\n",
    "    print(\"The total cost before shop discount of 10%\",unit)\n",
    "    print(\"The total cost after shop discount of 10% \", total_costfor_user)\n",
    "else:\n",
    "    print(\"The Quantity is not more than 1000\")"
   ]
  },
  {
   "cell_type": "markdown",
   "id": "8962433a",
   "metadata": {},
   "source": [
    "Q: 10 A school has following rules for grading system:\n",
    "a. Below 25 - F\n",
    "\n",
    "b. 25 to 45 - E\n",
    "\n",
    "c. 45 to 50 - D\n",
    "\n",
    "d. 50 to 60 - C\n",
    "\n",
    "e. 60 to 80 - B\n",
    "\n",
    "f. Above 80 - A\n",
    "\n",
    "Ask user to enter marks and print the corresponding grade."
   ]
  },
  {
   "cell_type": "code",
   "execution_count": 49,
   "id": "3085696f",
   "metadata": {},
   "outputs": [
    {
     "name": "stdout",
     "output_type": "stream",
     "text": [
      "Your Grade is A\n"
     ]
    }
   ],
   "source": [
    "marks  = int(input(\"Enter a Marks: \"))\n",
    "\n",
    "if marks>=0 and marks <25:\n",
    "    print(\"Your Grade is F\")\n",
    "elif marks>= 25 and marks <=45:\n",
    "    print(\"Your Grade is E\")\n",
    "elif marks>=45 and marks <=50:\n",
    "    print(\"Your Grade is D\")\n",
    "elif marks>=50 and marks <=60:\n",
    "    print(\"Your Grade is  C\")\n",
    "elif marks>= 60 and marks <=80:\n",
    "    print(\"Your Grade is  B\")\n",
    "elif marks>80 and marks<=100:\n",
    "    print(\"Your Grade is A\")\n",
    "else:\n",
    "    print(\"Incorrect Number...\")"
   ]
  },
  {
   "cell_type": "markdown",
   "id": "92dc720f",
   "metadata": {},
   "source": [
    "Q: 11 A student will not be allowed to sit in exam if his/her attendence is less than 75%.\n",
    "\n",
    "Take following input from user\n",
    "\n",
    "Number of classes held\n",
    "\n",
    "Number of classes attended.\n",
    "\n",
    "And print\n",
    "\n",
    "percentage of class attended\n",
    "\n",
    "Is student is allowed to sit in exam or not."
   ]
  },
  {
   "cell_type": "code",
   "execution_count": 65,
   "id": "208745f8",
   "metadata": {},
   "outputs": [
    {
     "name": "stdout",
     "output_type": "stream",
     "text": [
      "The Percetage of class attend 53 from class held 60 is  88.33333333333333\n",
      "The Studen is allowed to sit in the exam\n"
     ]
    }
   ],
   "source": [
    "class_held = int(input(\"Enter a number of classes held: \"))\n",
    "class_attend = int(input(\"Enter a number of classes You Attend: \"))\n",
    "percentage = (class_attend / class_held) * 100\n",
    "if(percentage>75):\n",
    "    print(f\"The Percetage of class attend {class_attend} from class held {class_held} is \",percentage)\n",
    "    print(\"The Studen is allowed to sit in the exam\")\n",
    "else:\n",
    "    print(\"The Student is not allowed to sit in the exam..\")\n",
    "    "
   ]
  },
  {
   "cell_type": "markdown",
   "id": "f3b21a45",
   "metadata": {},
   "source": [
    "Q: 12 Modify the above question to allow student to sit if he/she has medical cause. Ask user if he/she has medical cause or not ( 'Y' or 'N' ) and print accordingly."
   ]
  },
  {
   "cell_type": "code",
   "execution_count": 130,
   "id": "c417e875",
   "metadata": {},
   "outputs": [
    {
     "name": "stdout",
     "output_type": "stream",
     "text": [
      "You are Allowed to enter in the exam\n",
      "The percentage of class attend 50.0 and if have medical cause yes then he/she enter in exam\n"
     ]
    }
   ],
   "source": [
    "class_held = int(input(\"Enter a number of classes held: \"))\n",
    "class_attend = int(input(\"Enter a number of classes You Attend: \"))\n",
    "student = input(\"Enter if you have any medical cause Yes or No: \")\n",
    "percentage = (class_attend / class_held) * 100\n",
    "if(percentage>75):\n",
    "    print(f\"The Percetage of class attend {class_attend} from class held {class_held} is \",percentage)\n",
    "    print(\"The Studen is allowed to sit in the exam\")\n",
    "elif(student == \"yes\"):\n",
    "    print(\"You are Allowed to enter in the exam\")\n",
    "else:\n",
    "    print(\"You are not allowed to sit in the exam\")\n",
    "print(f\"The percentage of class attend {percentage} and if have medical cause {student} then he/she enter in exam\")"
   ]
  },
  {
   "cell_type": "markdown",
   "id": "7e3519e1",
   "metadata": {},
   "source": [
    "Q: 13 Write a program to check if a year is leap year or not.\n",
    "If a year is divisible by 4 then it is leap year but if the year is century year like 2000, 1900, 2100 then it must be divisible by 400."
   ]
  },
  {
   "cell_type": "code",
   "execution_count": 98,
   "id": "2250bfd1",
   "metadata": {},
   "outputs": [
    {
     "name": "stdout",
     "output_type": "stream",
     "text": [
      "The year is leap year 2000\n"
     ]
    }
   ],
   "source": [
    "year = int(input(\"Enter a Year: \"))\n",
    "if(year % 4 == 0 and year % 100 != 0) or (year % 400 == 0 ):\n",
    "    print(f\"The year is leap year {year}\")\n",
    "else:\n",
    "    print(f\"The year is not a leap year {year}\")\n"
   ]
  },
  {
   "cell_type": "markdown",
   "id": "8ccdee59",
   "metadata": {},
   "source": [
    "Q: 14 Ask user to enter age, gender ( M or F ), marital status ( Y or N ) and then using following rules print their place of service.\n",
    "- if employee is female, then she will work only in urban areas.\n",
    "\n",
    "- if employee is a male and age is in between 20 to 40 then he may work in anywhere\n",
    "\n",
    "- if employee is male and age is in between 40 t0 60 then he will work in urban areas only.\n",
    "\n",
    "- And any other input of age should print \"ERROR\""
   ]
  },
  {
   "cell_type": "code",
   "execution_count": 108,
   "id": "42ef8e6b",
   "metadata": {},
   "outputs": [
    {
     "name": "stdout",
     "output_type": "stream",
     "text": [
      "This Male Employee can work Anywhere\n",
      "The action on behave of Gender is Male and Age is 23 and the status of marriage is No\n"
     ]
    }
   ],
   "source": [
    "Gender = input(\"Enter your Gender: \")\n",
    "Age = int(input(\"Enter your Age: \"))\n",
    "Marital_status = input(\"Enter your Marital Status: \")\n",
    "if(Gender == \"Female\"):\n",
    "    print(\"She only work in Urban Areas.\")\n",
    "elif(Gender == \"Male\") and (Age>=20  and Age<=40):\n",
    "    print(\"This Male Employee can work Anywhere\")\n",
    "elif(Gender == \"Male\") and (Age>40 and Age<=60):\n",
    "    print(\"This Male Employee can work in Uran Areas Only..\")\n",
    "else:\n",
    "    print(\" error occur.\")\n",
    "print(f\"The action on behave of Gender is {Gender} and Age is {Age} and the status of marriage is {Marital_status}\")\n",
    "\n",
    "\n"
   ]
  },
  {
   "cell_type": "markdown",
   "id": "6861b4cd",
   "metadata": {},
   "source": [
    "Q: 15 Write a program to calculate the electricity bill (accept number of unit from user) according to the following criteria : Unit Price\n",
    "uptp 100 units no charge Next 200 units Rs 5 per unit After 200 units Rs 10 per unit (For example if input unit is 350 than total bill amount is Rs.3500) (For example if input unit is 97 than total bill amount is Rs.0) (For example if input unit is 150 than total bill amount is Rs.750)"
   ]
  },
  {
   "cell_type": "code",
   "execution_count": 121,
   "metadata": {},
   "outputs": [
    {
     "name": "stdout",
     "output_type": "stream",
     "text": [
      "Your Electricity Bill from unit 201 is 2010\n"
     ]
    }
   ],
   "source": [
    "unit = int(input(\"Enter how many units of your Electricity: \"))\n",
    "if(unit<=100):\n",
    "    print(\"Your Electricity Bill Charged is 0\")\n",
    "elif(unit>100 and unit<=200):\n",
    "    unit_charged = unit * 5\n",
    "    print(f\"Your Electricity Bill Charged from unit {unit} is {unit_charged}\")\n",
    "elif(unit>200):\n",
    "    unit_charged = unit * 10\n",
    "    print(f\"Your Electricity Bill from unit {unit} is {unit_charged}\")\n",
    "else:\n",
    "    print(\"Wrong info..\")"
   ]
  },
  {
   "cell_type": "markdown",
   "id": "242165ce",
   "metadata": {},
   "source": [
    "Q: 16 Take input of age of 3 people by user and determine oldest and youngest among them."
   ]
  },
  {
   "cell_type": "code",
   "execution_count": null,
   "id": "fa1c6b1a",
   "metadata": {},
   "outputs": [
    {
     "name": "stdout",
     "output_type": "stream",
     "text": [
      "The oldest age is: 46\n",
      "The youngest age is: 17\n"
     ]
    }
   ],
   "source": [
    "age1 = int(input(\"Enter age of person 1: \"))\n",
    "age2 = int(input(\"Enter age of person 2: \"))\n",
    "age3 = int(input(\"Enter age of person 3: \"))\n",
    "\n",
    "if age1 >= age2 and age1 >= age3:\n",
    "    oldest = age1\n",
    "elif age2 >= age1 and age2 >= age3:\n",
    "    oldest = age2\n",
    "else:\n",
    "    oldest = age3\n",
    "\n",
    "if age1 <= age2 and age1 <= age3:\n",
    "    youngest = age1\n",
    "elif age2 <= age1 and age2 <= age3:\n",
    "    youngest = age2\n",
    "else:\n",
    "    youngest = age3\n",
    "\n",
    "print(f\"The oldest age is: {oldest}\")\n",
    "print(f\"The youngest age is: {youngest}\")\n"
   ]
  },
  {
   "cell_type": "code",
   "execution_count": null,
   "id": "bb052b62",
   "metadata": {},
   "outputs": [],
   "source": []
  },
  {
   "cell_type": "code",
   "execution_count": null,
   "id": "826fc996",
   "metadata": {},
   "outputs": [],
   "source": []
  }
 ],
 "metadata": {
  "kernelspec": {
   "display_name": "Python 3",
   "language": "python",
   "name": "python3"
  },
  "language_info": {
   "codemirror_mode": {
    "name": "ipython",
    "version": 3
   },
   "file_extension": ".py",
   "mimetype": "text/x-python",
   "name": "python",
   "nbconvert_exporter": "python",
   "pygments_lexer": "ipython3",
   "version": "3.13.5"
  }
 },
 "nbformat": 4,
 "nbformat_minor": 5
}
