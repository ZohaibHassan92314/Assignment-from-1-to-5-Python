{
 "cells": [
  {
   "cell_type": "markdown",
   "id": "7cbb0706",
   "metadata": {},
   "source": [
    "## Assinment : 01"
   ]
  },
  {
   "cell_type": "markdown",
   "id": "f5a33119",
   "metadata": {},
   "source": [
    "Q: 01 Print Your Name with your Father name and Date of birth using suitable escape sequence charactor"
   ]
  },
  {
   "cell_type": "code",
   "execution_count": 2,
   "metadata": {},
   "outputs": [
    {
     "name": "stdout",
     "output_type": "stream",
     "text": [
      "Zohaib Hassan M Latif 12-2-2002\n"
     ]
    }
   ],
   "source": [
    "name = \"Zohaib Hassan\"\n",
    "f_name = \"M Latif\"\n",
    "Date_of_Birth = \"12-2-2002\"\n",
    "print(name + \" \" + f_name+ \" \" + Date_of_Birth )"
   ]
  },
  {
   "cell_type": "markdown",
   "id": "75f14ecb",
   "metadata": {},
   "source": [
    "Q: 02 Write your small bio using variables and print it using print function"
   ]
  },
  {
   "cell_type": "code",
   "execution_count": 3,
   "metadata": {},
   "outputs": [
    {
     "name": "stdout",
     "output_type": "stream",
     "text": [
      "My Name is Zohaib Hassan my Father Name is M Latif my Age is 23 and my weight is  48 and currently my education is Currently Undergraduat\n"
     ]
    }
   ],
   "source": [
    "Name = \"Zohaib Hassan\"\n",
    "f_name = \"M Latif\"\n",
    "Age = 23\n",
    "weight = 48\n",
    "Education = \"Currently Undergraduat\"\n",
    "print(f\"My Name is {Name} my Father Name is {f_name} my Age is {Age} and my weight is  {weight} and currently my education is {Education}\")"
   ]
  },
  {
   "cell_type": "markdown",
   "id": "fbb2a8b4",
   "metadata": {},
   "source": [
    "Q: 03 Write a program in which use all the operators we can use in Python\n",
    "- Airthmatic Operators"
   ]
  },
  {
   "cell_type": "code",
   "execution_count": 5,
   "id": "a02393ad",
   "metadata": {},
   "outputs": [
    {
     "data": {
      "text/plain": [
       "8"
      ]
     },
     "execution_count": 5,
     "metadata": {},
     "output_type": "execute_result"
    }
   ],
   "source": [
    "5+3 #Add"
   ]
  },
  {
   "cell_type": "code",
   "execution_count": 6,
   "metadata": {},
   "outputs": [
    {
     "data": {
      "text/plain": [
       "2"
      ]
     },
     "execution_count": 6,
     "metadata": {},
     "output_type": "execute_result"
    }
   ],
   "source": [
    "5-3 #Subtract"
   ]
  },
  {
   "cell_type": "code",
   "execution_count": 7,
   "id": "91d0582c",
   "metadata": {},
   "outputs": [
    {
     "data": {
      "text/plain": [
       "15"
      ]
     },
     "execution_count": 7,
     "metadata": {},
     "output_type": "execute_result"
    }
   ],
   "source": [
    "5*3 #Multiply"
   ]
  },
  {
   "cell_type": "code",
   "execution_count": 8,
   "id": "e64d0237",
   "metadata": {},
   "outputs": [
    {
     "data": {
      "text/plain": [
       "1.6666666666666667"
      ]
     },
     "execution_count": 8,
     "metadata": {},
     "output_type": "execute_result"
    }
   ],
   "source": [
    "5/3 # Divide"
   ]
  },
  {
   "cell_type": "code",
   "execution_count": 32,
   "id": "0d06c26d",
   "metadata": {},
   "outputs": [
    {
     "data": {
      "text/plain": [
       "2"
      ]
     },
     "execution_count": 32,
     "metadata": {},
     "output_type": "execute_result"
    }
   ],
   "source": [
    "5%3"
   ]
  },
  {
   "cell_type": "code",
   "execution_count": 9,
   "id": "d01f827e",
   "metadata": {},
   "outputs": [
    {
     "data": {
      "text/plain": [
       "1"
      ]
     },
     "execution_count": 9,
     "metadata": {},
     "output_type": "execute_result"
    }
   ],
   "source": [
    "5//3 # Flood Operators (round of) "
   ]
  },
  {
   "cell_type": "code",
   "execution_count": 10,
   "id": "58c95d73",
   "metadata": {},
   "outputs": [
    {
     "data": {
      "text/plain": [
       "125"
      ]
     },
     "execution_count": 10,
     "metadata": {},
     "output_type": "execute_result"
    }
   ],
   "source": [
    "5**3"
   ]
  },
  {
   "cell_type": "markdown",
   "id": "fb959f6f",
   "metadata": {},
   "source": [
    "# Assinment Operators"
   ]
  },
  {
   "cell_type": "code",
   "execution_count": 19,
   "id": "b1e0820c",
   "metadata": {},
   "outputs": [],
   "source": [
    "num1 = 15\n",
    "num2 = 10\n",
    "num1 += num2"
   ]
  },
  {
   "cell_type": "code",
   "execution_count": 20,
   "id": "a7bd565f",
   "metadata": {},
   "outputs": [
    {
     "data": {
      "text/plain": [
       "(25, 10)"
      ]
     },
     "execution_count": 20,
     "metadata": {},
     "output_type": "execute_result"
    }
   ],
   "source": [
    "num1, num2"
   ]
  },
  {
   "cell_type": "code",
   "execution_count": 21,
   "id": "a3a736bd",
   "metadata": {},
   "outputs": [],
   "source": [
    "num1 -= num2\n"
   ]
  },
  {
   "cell_type": "code",
   "execution_count": 22,
   "id": "458fa669",
   "metadata": {},
   "outputs": [
    {
     "data": {
      "text/plain": [
       "(15, 10)"
      ]
     },
     "execution_count": 22,
     "metadata": {},
     "output_type": "execute_result"
    }
   ],
   "source": [
    "num1, num2"
   ]
  },
  {
   "cell_type": "code",
   "execution_count": 23,
   "id": "5dd87bcb",
   "metadata": {},
   "outputs": [
    {
     "data": {
      "text/plain": [
       "(150, 10)"
      ]
     },
     "execution_count": 23,
     "metadata": {},
     "output_type": "execute_result"
    }
   ],
   "source": [
    "num1 *= num2\n",
    "num1,num2"
   ]
  },
  {
   "cell_type": "code",
   "execution_count": 33,
   "id": "50efcaee",
   "metadata": {},
   "outputs": [
    {
     "data": {
      "text/plain": [
       "(1.3333333333333333, 12)"
      ]
     },
     "execution_count": 33,
     "metadata": {},
     "output_type": "execute_result"
    }
   ],
   "source": [
    "num1 /= num2\n",
    "num1, num2"
   ]
  },
  {
   "cell_type": "code",
   "execution_count": 37,
   "id": "9a50e1c5",
   "metadata": {},
   "outputs": [
    {
     "data": {
      "text/plain": [
       "(0.0, 12)"
      ]
     },
     "execution_count": 37,
     "metadata": {},
     "output_type": "execute_result"
    }
   ],
   "source": [
    "num1 //=num2\n",
    "num1, num2"
   ]
  },
  {
   "cell_type": "code",
   "execution_count": 38,
   "id": "d3988c31",
   "metadata": {},
   "outputs": [
    {
     "data": {
      "text/plain": [
       "(0.0, 12)"
      ]
     },
     "execution_count": 38,
     "metadata": {},
     "output_type": "execute_result"
    }
   ],
   "source": [
    "num1 %= num2\n",
    "num1, num2"
   ]
  },
  {
   "cell_type": "code",
   "execution_count": 39,
   "id": "29fc1662",
   "metadata": {},
   "outputs": [
    {
     "data": {
      "text/plain": [
       "(0.0, 12)"
      ]
     },
     "execution_count": 39,
     "metadata": {},
     "output_type": "execute_result"
    }
   ],
   "source": [
    "num1 **= num2\n",
    "num1, num2"
   ]
  },
  {
   "cell_type": "markdown",
   "id": "4fee469e",
   "metadata": {},
   "source": [
    "# Logical Operators"
   ]
  },
  {
   "cell_type": "code",
   "execution_count": 40,
   "id": "dcdf13c0",
   "metadata": {},
   "outputs": [
    {
     "data": {
      "text/plain": [
       "True"
      ]
     },
     "execution_count": 40,
     "metadata": {},
     "output_type": "execute_result"
    }
   ],
   "source": [
    "5>3 and 10>6"
   ]
  },
  {
   "cell_type": "code",
   "execution_count": 42,
   "metadata": {},
   "outputs": [
    {
     "data": {
      "text/plain": [
       "True"
      ]
     },
     "execution_count": 42,
     "metadata": {},
     "output_type": "execute_result"
    }
   ],
   "source": [
    "5>3 or 12<6"
   ]
  },
  {
   "cell_type": "code",
   "execution_count": 43,
   "id": "53834cd0",
   "metadata": {},
   "outputs": [
    {
     "data": {
      "text/plain": [
       "False"
      ]
     },
     "execution_count": 43,
     "metadata": {},
     "output_type": "execute_result"
    }
   ],
   "source": [
    "not(5>3)"
   ]
  },
  {
   "cell_type": "markdown",
   "id": "f239d0ee",
   "metadata": {},
   "source": [
    "# Conditional Operators"
   ]
  },
  {
   "cell_type": "code",
   "execution_count": 26,
   "id": "ec9ccd5e",
   "metadata": {},
   "outputs": [
    {
     "data": {
      "text/plain": [
       "False"
      ]
     },
     "execution_count": 26,
     "metadata": {},
     "output_type": "execute_result"
    }
   ],
   "source": [
    "num1 = 16\n",
    "num2 = 12\n",
    "num1 == num2"
   ]
  },
  {
   "cell_type": "code",
   "execution_count": 27,
   "id": "185a1571",
   "metadata": {},
   "outputs": [
    {
     "data": {
      "text/plain": [
       "True"
      ]
     },
     "execution_count": 27,
     "metadata": {},
     "output_type": "execute_result"
    }
   ],
   "source": [
    "num1 != num2"
   ]
  },
  {
   "cell_type": "code",
   "execution_count": 28,
   "id": "3ad5cc8d",
   "metadata": {},
   "outputs": [
    {
     "data": {
      "text/plain": [
       "True"
      ]
     },
     "execution_count": 28,
     "metadata": {},
     "output_type": "execute_result"
    }
   ],
   "source": [
    "num1>num2"
   ]
  },
  {
   "cell_type": "code",
   "execution_count": 29,
   "id": "ffef2f2f",
   "metadata": {},
   "outputs": [
    {
     "data": {
      "text/plain": [
       "False"
      ]
     },
     "execution_count": 29,
     "metadata": {},
     "output_type": "execute_result"
    }
   ],
   "source": [
    "num1<num2"
   ]
  },
  {
   "cell_type": "code",
   "execution_count": 30,
   "id": "792a1c1e",
   "metadata": {},
   "outputs": [
    {
     "data": {
      "text/plain": [
       "True"
      ]
     },
     "execution_count": 30,
     "metadata": {},
     "output_type": "execute_result"
    }
   ],
   "source": [
    "num1>=num2"
   ]
  },
  {
   "cell_type": "code",
   "execution_count": 31,
   "id": "673acdb3",
   "metadata": {},
   "outputs": [
    {
     "data": {
      "text/plain": [
       "False"
      ]
     },
     "execution_count": 31,
     "metadata": {},
     "output_type": "execute_result"
    }
   ],
   "source": [
    "num1<=num2"
   ]
  },
  {
   "cell_type": "markdown",
   "id": "d07b3d6a",
   "metadata": {},
   "source": [
    "Q: 04 Completes the following steps of small task:\n",
    "- Mention Marks of English , Islamiat and Maths out of 100 in 3 different variables\n",
    "- Mention Variable of Total Marks and assign 300 to it\n",
    "- Calculate Percentage"
   ]
  },
  {
   "cell_type": "code",
   "execution_count": 67,
   "id": "dadf9f99",
   "metadata": {},
   "outputs": [
    {
     "name": "stdout",
     "output_type": "stream",
     "text": [
      "Percentage: 94.33333333333334 \n"
     ]
    }
   ],
   "source": [
    "Math = 96\n",
    "Islamiat = 98\n",
    "Enlish = 89\n",
    "obtained_marks = Math + Islamiat + Enlish\n",
    "Total_Marks = 300\n",
    "percentage = ((obtained_marks / Total_Marks ) * 100)\n",
    "print(f\"Percentage: {percentage} \")"
   ]
  }
 ],
 "metadata": {
  "kernelspec": {
   "display_name": ".venv (3.13.5)",
   "language": "python",
   "name": "python3"
  },
  "language_info": {
   "codemirror_mode": {
    "name": "ipython",
    "version": 3
   },
   "file_extension": ".py",
   "mimetype": "text/x-python",
   "name": "python",
   "nbconvert_exporter": "python",
   "pygments_lexer": "ipython3",
   "version": "3.13.5"
  }
 },
 "nbformat": 4,
 "nbformat_minor": 5
}
