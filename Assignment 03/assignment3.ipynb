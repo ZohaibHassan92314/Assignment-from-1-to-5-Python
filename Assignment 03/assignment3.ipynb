{
 "cells": [
  {
   "cell_type": "markdown",
   "id": "0931739f",
   "metadata": {},
   "source": [
    "Q: 01 Write a program that accepts a string from user. Your program should count and display number of\n",
    "vowels in that string"
   ]
  },
  {
   "cell_type": "code",
   "execution_count": 19,
   "id": "69cb0a29",
   "metadata": {},
   "outputs": [
    {
     "name": "stdout",
     "output_type": "stream",
     "text": [
      "Number of vowels: 3\n",
      "The string enter is Zohaib \n"
     ]
    }
   ],
   "source": [
    "string = input(\"Enter a string: \")\n",
    "vowels = \"aeiouAEIOU\"\n",
    "count = 0\n",
    "\n",
    "for ch in string:\n",
    "    if ch in vowels:\n",
    "        count += 1\n",
    "\n",
    "print(\"Number of vowels:\", count)\n",
    "print(f\"The string enter is {string} \")\n"
   ]
  },
  {
   "cell_type": "markdown",
   "id": "bcb2bd34",
   "metadata": {},
   "source": [
    "Q: 02 Write a program that reads a string from keyboard and display:\n",
    "* The number of uppercase letters in the string\n",
    "* The number of lowercase letters in the string\n",
    "* The number of digits in the string\n",
    "* The number of whitespace characters in the string"
   ]
  },
  {
   "cell_type": "code",
   "execution_count": 3,
   "id": "f7fd1633",
   "metadata": {},
   "outputs": [
    {
     "name": "stdout",
     "output_type": "stream",
     "text": [
      "Uppercase: 1\n",
      "Lowercase: 5\n",
      "Digits: 0\n",
      "Spaces: 0\n"
     ]
    }
   ],
   "source": [
    "text = input(\"Enter a string: \")\n",
    "\n",
    "upper = lower = digit = space = 0\n",
    "\n",
    "for ch in text:\n",
    "    if ch.isupper():\n",
    "        upper += 1\n",
    "    elif ch.islower():\n",
    "        lower += 1\n",
    "    elif ch.isdigit():\n",
    "        digit += 1\n",
    "    elif ch.isspace():\n",
    "        space += 1\n",
    "\n",
    "print(\"Uppercase:\", upper)\n",
    "print(\"Lowercase:\", lower)\n",
    "print(\"Digits:\", digit)\n",
    "print(\"Spaces:\", space)\n"
   ]
  },
  {
   "cell_type": "markdown",
   "id": "e9ac77d2",
   "metadata": {},
   "source": [
    "Q: 03 Write a Python program that accepts a string from user. Your program should create and display a\n",
    "new string where the first and last characters have been exchanged.\n",
    "For example if the user enters the string 'HELLO' then new string would be 'OELLH' \n"
   ]
  },
  {
   "cell_type": "code",
   "execution_count": 18,
   "id": "9dce0a82",
   "metadata": {},
   "outputs": [
    {
     "name": "stdout",
     "output_type": "stream",
     "text": [
      "New string: oellH\n",
      "The string enter is Hello\n"
     ]
    }
   ],
   "source": [
    "s = input(\"Enter a string: \")\n",
    "\n",
    "if len(s) > 1:\n",
    "    new_str = s[-1] + s[1:-1] + s[0]\n",
    "else:\n",
    "    new_str = s\n",
    "\n",
    "print(\"New string:\", new_str)\n",
    "print(f\"The string enter is {s}\")\n"
   ]
  },
  {
   "cell_type": "markdown",
   "id": "90480f0e",
   "metadata": {},
   "source": [
    "Q: 04 Write a Python program that accepts a string from user. Your program should create a new string in\n",
    "reverse of first string and display it.\n",
    "For example if the user enters the string 'EXAM' then new string would be 'MAXE'"
   ]
  },
  {
   "cell_type": "code",
   "execution_count": 17,
   "id": "c7c8a6cf",
   "metadata": {},
   "outputs": [
    {
     "name": "stdout",
     "output_type": "stream",
     "text": [
      "Reversed string: biahoZ\n",
      "The string enter is Zohaib\n"
     ]
    }
   ],
   "source": [
    "s = input(\"Enter a string: \")\n",
    "rev = \"\"\n",
    "\n",
    "for ch in s:\n",
    "    rev = ch + rev\n",
    "\n",
    "print(\"Reversed string:\", rev)\n",
    "print(f\"The string enter is {s}\")\n"
   ]
  },
  {
   "cell_type": "markdown",
   "id": "0f632250",
   "metadata": {},
   "source": [
    "Q: 05 Write a Python program that accepts a string from user. Your program should create a new string by\n",
    "shifting one position to left.\n",
    "For example if the user enters the string 'examination 2021' then new string would be 'xamination\n",
    "2021e'"
   ]
  },
  {
   "cell_type": "code",
   "execution_count": 16,
   "id": "8f3fc249",
   "metadata": {},
   "outputs": [
    {
     "name": "stdout",
     "output_type": "stream",
     "text": [
      "Shifted string: assanH\n",
      "The string enter is Hassan\n"
     ]
    }
   ],
   "source": [
    "s = input(\"Enter a string: \")\n",
    "\n",
    "if len(s) > 0:\n",
    "    shifted = s[1:] + s[0]\n",
    "else:\n",
    "    shifted = s\n",
    "\n",
    "print(\"Shifted string:\", shifted)\n",
    "print(f\"The string enter is {s}\")\n"
   ]
  },
  {
   "cell_type": "markdown",
   "id": "7ed62183",
   "metadata": {},
   "source": [
    "Q: 06 Write a program that asks the user to input his name and print its initials. Assuming that the user\n",
    "always types first name, middle name and last name and does not include any unnecessary spaces.\n",
    "For example, if the user enters Ajay Kumar Garg the program should display A. K. G.\n",
    "Note:Don't use split() method "
   ]
  },
  {
   "cell_type": "code",
   "execution_count": 7,
   "metadata": {},
   "outputs": [
    {
     "name": "stdout",
     "output_type": "stream",
     "text": [
      "Initials: Z. H.\n"
     ]
    }
   ],
   "source": [
    "name = input(\"Enter full name (first middle last): \")\n",
    "\n",
    "initials = \"\"\n",
    "initials += name[0] + \". \"\n",
    "\n",
    "for i in range(len(name)):\n",
    "    if name[i] == \" \" and i+1 < len(name):\n",
    "        initials += name[i+1].upper() + \". \"\n",
    "\n",
    "print(\"Initials:\", initials.strip())\n"
   ]
  },
  {
   "cell_type": "markdown",
   "id": "7d155974",
   "metadata": {},
   "source": [
    "Q: 07 A palindrome is a string that reads the same backward as forward. For example, the words dad,\n",
    "madam and radar are all palindromes. Write a programs that determines whether the string is a\n",
    "palindrome.\n",
    "Note: do not use reverse() method \n"
   ]
  },
  {
   "cell_type": "code",
   "execution_count": 15,
   "id": "2c9d9e5a",
   "metadata": {},
   "outputs": [
    {
     "name": "stdout",
     "output_type": "stream",
     "text": [
      "Not a palindrome\n",
      "The string enter is zohaib\n"
     ]
    }
   ],
   "source": [
    "s = input(\"Enter a string: \")\n",
    "\n",
    "rev = \"\"\n",
    "for ch in s:\n",
    "    rev = ch + rev\n",
    "\n",
    "if s == rev:\n",
    "    print(\"Palindrome\")\n",
    "else:\n",
    "    print(\"Not a palindrome\")\n",
    "print(f\"The string enter is {s}\")\n"
   ]
  },
  {
   "cell_type": "markdown",
   "id": "136a3c36",
   "metadata": {},
   "source": [
    "Q: 08 8. Write a program that display following output:\n",
    "SHIFT\n",
    "HIFTS\n",
    "IFTSH\n",
    "FTSHI\n",
    "TSHIF\n",
    "SHIFT "
   ]
  },
  {
   "cell_type": "code",
   "execution_count": 10,
   "id": "937114e1",
   "metadata": {},
   "outputs": [
    {
     "name": "stdout",
     "output_type": "stream",
     "text": [
      "SHIFT\n",
      "HIFTS\n",
      "IFTSH\n",
      "FTSHI\n",
      "TSHIF\n",
      "SHIFT\n"
     ]
    }
   ],
   "source": [
    "\n",
    "text = \"SHIFT\"\n",
    "length = len(text)\n",
    "\n",
    "for i in range(length + 1):  \n",
    "    rotated = text[i:] + text[:i]  \n",
    "    print(rotated)\n"
   ]
  },
  {
   "cell_type": "markdown",
   "id": "e5ca0c47",
   "metadata": {},
   "source": [
    "Q: 09  Write a program in python that accepts a string to setup a passwords. Your entered password must\n",
    "meet the following requirements:\n",
    "The password must be at least eight characters long.\n",
    "It must contain at least one uppercase letter.\n",
    "It must contain at least one lowercase letter.\n",
    "It must contain at least one numeric digit.\n",
    "Your program should should perform this validation."
   ]
  },
  {
   "cell_type": "code",
   "execution_count": 23,
   "id": "8fe0cf34",
   "metadata": {},
   "outputs": [
    {
     "name": "stdout",
     "output_type": "stream",
     "text": [
      "Password is valid\n",
      "The Password enter is Zohaib1$\n"
     ]
    }
   ],
   "source": [
    "password = input(\"Enter password: \")\n",
    "\n",
    "if len(password) < 8:\n",
    "    print(\"Password must be at least 8 characters long\")\n",
    "elif not any(ch.isupper() for ch in password):\n",
    "    print(\"Password must contain an uppercase letter\")\n",
    "elif not any(ch.islower() for ch in password):\n",
    "    print(\"Password must contain a lowercase letter\")\n",
    "elif not any(ch.isdigit() for ch in password):\n",
    "    print(\"Password must contain a digit\")\n",
    "else:\n",
    "    print(\"Password is valid\")\n",
    "print(f\"The Password enter is {password}\")\n"
   ]
  }
 ],
 "metadata": {
  "kernelspec": {
   "display_name": ".venv (3.13.5)",
   "language": "python",
   "name": "python3"
  },
  "language_info": {
   "codemirror_mode": {
    "name": "ipython",
    "version": 3
   },
   "file_extension": ".py",
   "mimetype": "text/x-python",
   "name": "python",
   "nbconvert_exporter": "python",
   "pygments_lexer": "ipython3",
   "version": "3.13.5"
  }
 },
 "nbformat": 4,
 "nbformat_minor": 5
}
