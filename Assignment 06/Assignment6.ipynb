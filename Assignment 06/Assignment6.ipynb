{
 "cells": [
  {
   "cell_type": "markdown",
   "id": "97f7d9ec",
   "metadata": {},
   "source": [
    "## Assignment 06 (Classes)"
   ]
  },
  {
   "cell_type": "markdown",
   "id": "b2da8d54",
   "metadata": {},
   "source": [
    "## Q: 01 Write a Python program to create a class representing a Circle. Include methods to calculate its area and perimeter."
   ]
  },
  {
   "cell_type": "code",
   "execution_count": 2,
   "metadata": {},
   "outputs": [
    {
     "name": "stdout",
     "output_type": "stream",
     "text": [
      "\n",
      "For a circle with radius 7.0:\n",
      "Area      = 153.94\n",
      "Perimeter = 43.98\n"
     ]
    }
   ],
   "source": [
    "import math\n",
    "\n",
    "class Circle:\n",
    "    def __init__(self, radius):\n",
    "        \"\"\"Initialize the circle with a given radius.\"\"\"\n",
    "        self.radius = radius\n",
    "\n",
    "    def area(self):\n",
    "        \"\"\"Return the area of the circle.\"\"\"\n",
    "        return math.pi * (self.radius ** 2)\n",
    "\n",
    "    def perimeter(self):\n",
    "        \"\"\"Return the perimeter (circumference) of the circle.\"\"\"\n",
    "        return 2 * math.pi * self.radius\n",
    "\n",
    "\n",
    "if __name__ == \"__main__\":\n",
    "    r = float(input(\"Enter the radius of the circle: \"))\n",
    "    circle = Circle(r)\n",
    "\n",
    "    print(f\"\\nFor a circle with radius {r}:\")\n",
    "    print(f\"Area      = {circle.area():.2f}\")\n",
    "    print(f\"Perimeter = {circle.perimeter():.2f}\")\n"
   ]
  },
  {
   "cell_type": "markdown",
   "id": "b2535815",
   "metadata": {},
   "source": [
    "## Q: 02 Write a Python program to create a person class. Include attributes like name, country and date of birth. Implement a method to determine the person's age."
   ]
  },
  {
   "cell_type": "code",
   "execution_count": 4,
   "metadata": {},
   "outputs": [
    {
     "name": "stdout",
     "output_type": "stream",
     "text": [
      "Enter Person Details:\n",
      "\n",
      "--- Person Details ---\n",
      "Name: Zohaib\n",
      "Country: Pakistan\n",
      "Date of Birth: 12-06-2002\n",
      "Age: 23 years\n"
     ]
    }
   ],
   "source": [
    "class Person:\n",
    "    def __init__(self, name, country, date_of_birth):\n",
    "        \"\"\"Initialize the person with name, country, and full date of birth.\"\"\"\n",
    "        self.name = name\n",
    "        self.country = country\n",
    "        self.date_of_birth = date_of_birth  \n",
    "\n",
    "    def calculate_age(self, current_date):\n",
    "        \"\"\"Calculate age manually from date strings like 'DD-MM-YYYY'.\"\"\"\n",
    "        \n",
    "        birth_day, birth_month, birth_year = map(int, self.date_of_birth.split('-'))\n",
    "        current_day, current_month, current_year = map(int, current_date.split('-'))\n",
    "\n",
    "        age = current_year - birth_year\n",
    "\n",
    "        \n",
    "        if (current_month, current_day) < (birth_month, birth_day):\n",
    "            age -= 1\n",
    "\n",
    "        return age\n",
    "\n",
    "\n",
    "print(\"Enter Person Details:\")\n",
    "name = input(\"Name: \")\n",
    "country = input(\"Country: \")\n",
    "dob = input(\"Date of Birth (DD-MM-YYYY): \")\n",
    "current_date = input(\"Enter Current Date (DD-MM-YYYY): \")\n",
    "\n",
    "person = Person(name, country, dob)\n",
    "age = person.calculate_age(current_date)\n",
    "\n",
    "print(\"\\n--- Person Details ---\")\n",
    "print(\"Name:\", person.name)\n",
    "print(\"Country:\", person.country)\n",
    "print(\"Date of Birth:\", person.date_of_birth)\n",
    "print(\"Age:\", age, \"years\")\n"
   ]
  },
  {
   "cell_type": "markdown",
   "id": "65d7c218",
   "metadata": {},
   "source": [
    "## Q: 03 Write a Python program to create a calculator class. Include methods for basic arithmetic operations."
   ]
  },
  {
   "cell_type": "code",
   "execution_count": 6,
   "metadata": {},
   "outputs": [
    {
     "name": "stdout",
     "output_type": "stream",
     "text": [
      "Addition: 15\n",
      "Subtraction: 5\n",
      "Multiplication: 50\n",
      "Division: 2.0\n"
     ]
    }
   ],
   "source": [
    "class Calculator:\n",
    "    def add(self, a, b):\n",
    "        return a + b\n",
    "\n",
    "    def subtract(self, a, b):\n",
    "        return a - b\n",
    "\n",
    "    def multiply(self, a, b):\n",
    "        return a * b\n",
    "\n",
    "    def divide(self, a, b):\n",
    "        if b == 0:\n",
    "            return \"Error! Division by zero is not allowed.\"\n",
    "        return a / b\n",
    "\n",
    "\n",
    "calc = Calculator()\n",
    "\n",
    "print(\"Addition:\", calc.add(10, 5))\n",
    "print(\"Subtraction:\", calc.subtract(10, 5))\n",
    "print(\"Multiplication:\", calc.multiply(10, 5))\n",
    "print(\"Division:\", calc.divide(10, 5))\n"
   ]
  },
  {
   "cell_type": "code",
   "execution_count": null,
   "metadata": {},
   "outputs": [],
   "source": []
  },
  {
   "cell_type": "code",
   "execution_count": null,
   "metadata": {},
   "outputs": [],
   "source": []
  },
  {
   "cell_type": "code",
   "execution_count": null,
   "id": "be1b554d",
   "metadata": {},
   "outputs": [],
   "source": []
  },
  {
   "cell_type": "code",
   "execution_count": null,
   "metadata": {},
   "outputs": [],
   "source": []
  },
  {
   "cell_type": "code",
   "execution_count": null,
   "metadata": {},
   "outputs": [],
   "source": []
  }
 ],
 "metadata": {
  "kernelspec": {
   "display_name": "Python 3",
   "language": "python",
   "name": "python3"
  },
  "language_info": {
   "codemirror_mode": {
    "name": "ipython",
    "version": 3
   },
   "file_extension": ".py",
   "mimetype": "text/x-python",
   "name": "python",
   "nbconvert_exporter": "python",
   "pygments_lexer": "ipython3",
   "version": "3.13.5"
  }
 },
 "nbformat": 4,
 "nbformat_minor": 5
}
