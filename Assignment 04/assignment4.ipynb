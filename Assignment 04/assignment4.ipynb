{
 "cells": [
  {
   "cell_type": "markdown",
   "id": "4b5f9298",
   "metadata": {},
   "source": [
    "Q: 01 Write a program that accepts a list from user and print the alternate element of list. \n"
   ]
  },
  {
   "cell_type": "code",
   "execution_count": 1,
   "id": "c406983c",
   "metadata": {},
   "outputs": [
    {
     "name": "stdout",
     "output_type": "stream",
     "text": [
      "Alternate elements are:\n",
      "10\n",
      "30\n"
     ]
    }
   ],
   "source": [
    "lst = input(\"Enter elements separated by space: \").split()\n",
    "print(\"Alternate elements are:\")\n",
    "for i in range(0, len(lst), 2):\n",
    "    print(lst[i])\n"
   ]
  },
  {
   "cell_type": "markdown",
   "id": "1d177721",
   "metadata": {},
   "source": [
    "Q: 02  Write a program that accepts a list from user. Your program should reverse the content of list and\n",
    "display it. Do not use reverse() method. "
   ]
  },
  {
   "cell_type": "code",
   "execution_count": 2,
   "metadata": {},
   "outputs": [
    {
     "name": "stdout",
     "output_type": "stream",
     "text": [
      "Reversed list: ['90', '70', '50', '30', '10']\n"
     ]
    }
   ],
   "source": [
    "lst = input(\"Enter elements separated by space: \").split()\n",
    "reversed_lst = []\n",
    "for i in range(len(lst)-1, -1, -1):\n",
    "    reversed_lst.append(lst[i])\n",
    "print(\"Reversed list:\", reversed_lst)\n"
   ]
  },
  {
   "cell_type": "markdown",
   "id": "60c299e6",
   "metadata": {},
   "source": [
    "Q: 03 Find and display the largest number of a list without using built-in function max(). Your program\n",
    "should ask the user to input values in list from keyboard."
   ]
  },
  {
   "cell_type": "code",
   "execution_count": 4,
   "id": "02b72523",
   "metadata": {},
   "outputs": [
    {
     "name": "stdout",
     "output_type": "stream",
     "text": [
      "Largest number is: 80\n"
     ]
    }
   ],
   "source": [
    "lst = list(map(int, input(\"Enter numbers separated by space: \").split()))\n",
    "largest = lst[0]\n",
    "for num in lst:\n",
    "    if num > largest:\n",
    "        largest = num\n",
    "print(\"Largest number is:\", largest)\n"
   ]
  },
  {
   "cell_type": "markdown",
   "id": "643691f1",
   "metadata": {},
   "source": [
    "Q: 04 Write a program that rotates the element of a list so that the element at the first index moves to the\n",
    "second index, the element in the second index moves to the third index, etc., and the element in the last\n",
    "index moves to the first index"
   ]
  },
  {
   "cell_type": "code",
   "execution_count": 5,
   "id": "a774a17f",
   "metadata": {},
   "outputs": [
    {
     "name": "stdout",
     "output_type": "stream",
     "text": [
      "Rotated list: ['70', '10', '20', '40', '50', '60']\n"
     ]
    }
   ],
   "source": [
    "lst = input(\"Enter elements separated by space: \").split()\n",
    "rotated = [lst[-1]] + lst[:-1]\n",
    "print(\"Rotated list:\", rotated)\n"
   ]
  },
  {
   "cell_type": "markdown",
   "id": "28501d10",
   "metadata": {},
   "source": [
    "Q: 05 Write a program that input a string and ask user to delete a given word from a string. \n"
   ]
  },
  {
   "cell_type": "code",
   "execution_count": 6,
   "id": "7e5a601a",
   "metadata": {},
   "outputs": [
    {
     "name": "stdout",
     "output_type": "stream",
     "text": [
      "After deletion: Zohib Hssn\n"
     ]
    }
   ],
   "source": [
    "text = input(\"Enter a string: \")\n",
    "word = input(\"Enter word to delete: \")\n",
    "new_text = text.replace(word, \"\")\n",
    "print(\"After deletion:\", new_text.strip())\n"
   ]
  },
  {
   "cell_type": "markdown",
   "id": "d7e14139",
   "metadata": {},
   "source": [
    "Q: 06 Write a program that reads a string from the user containing a date in the form mm/dd/yyyy. It\n",
    "should print the date in the form March 12, 2021."
   ]
  },
  {
   "cell_type": "code",
   "execution_count": 10,
   "id": "160c8111",
   "metadata": {},
   "outputs": [
    {
     "name": "stdout",
     "output_type": "stream",
     "text": [
      "June 12, 2002\n"
     ]
    }
   ],
   "source": [
    "months = [\"January\", \"February\", \"March\", \"April\", \"May\", \"June\",\n",
    "          \"July\", \"August\", \"September\", \"October\", \"November\", \"December\"]\n",
    "\n",
    "date = input(\"Enter date (mm/dd/yyyy): \")\n",
    "mm, dd, yyyy = date.split(\"/\")\n",
    "mm = int(mm)\n",
    "print(f\"{months[mm-1]} {int(dd)}, {yyyy}\")\n"
   ]
  },
  {
   "cell_type": "markdown",
   "id": "ca1905a8",
   "metadata": {},
   "source": [
    "Q: 07 Write a program with a function that accepts a string from keyboard and create a new string after\n",
    "converting character of each word capitalized. For instance, if the sentence is \"stop and smell the roses.\"\n",
    "the output should be \"Stop And Smell The Roses\""
   ]
  },
  {
   "cell_type": "code",
   "execution_count": 23,
   "id": "a4f8cd20",
   "metadata": {},
   "outputs": [
    {
     "name": "stdout",
     "output_type": "stream",
     "text": [
      "Hello Budy How Are You!\n",
      "The Sentence enter is Hello Budy how are you!\n"
     ]
    }
   ],
   "source": [
    "sentence = input(\"Enter a sentence: \")\n",
    "words = sentence.split()\n",
    "capitalized = [word.capitalize() for word in words]\n",
    "print(\" \".join(capitalized))\n",
    "print(f\"The Sentence enter is {sentence}\")\n"
   ]
  },
  {
   "cell_type": "markdown",
   "id": "8b4397c4",
   "metadata": {},
   "source": [
    "Q: 08 . Find the sum of each row of matrix of size m x n. For example for the following matrix output will be\n",
    "like this :\n",
    "- Sum of row 1 = 32\n",
    "- Sum of row 2 = 31\n",
    "- Sum of row 3 = 63 "
   ]
  },
  {
   "cell_type": "code",
   "execution_count": 15,
   "id": "55bfea52",
   "metadata": {},
   "outputs": [
    {
     "name": "stdout",
     "output_type": "stream",
     "text": [
      "Enter elements row by row:\n",
      "Sum of row 1 = 32\n",
      "Sum of row 2 = 31\n",
      "Sum of row 3 = 63\n"
     ]
    }
   ],
   "source": [
    "m = int(input(\"Enter number of rows: \"))\n",
    "n = int(input(\"Enter number of columns: \"))\n",
    "\n",
    "matrix = []\n",
    "print(\"Enter elements row by row:\")\n",
    "\n",
    "for i in range(m):\n",
    "    row = list(map(int, input().split()))\n",
    "    matrix.append(row)\n",
    "\n",
    "for i in range(m):\n",
    "    print(f\"Sum of row {i+1} = {sum(matrix[i])}\")\n"
   ]
  },
  {
   "cell_type": "markdown",
   "id": "bb0ca89b",
   "metadata": {},
   "source": [
    "Q: 09 Write a program to add two matrices of size n x m. \n"
   ]
  },
  {
   "cell_type": "code",
   "execution_count": 20,
   "id": "7b22450f",
   "metadata": {},
   "outputs": [
    {
     "name": "stdout",
     "output_type": "stream",
     "text": [
      "Enter first matrix:\n",
      "Enter second matrix:\n",
      "\n",
      "Matrix A:\n",
      "[10, 20]\n",
      "[20, 30]\n",
      "[40, 60]\n",
      "\n",
      "Matrix B:\n",
      "[30, 40]\n",
      "[22, 45]\n",
      "[10, 60]\n",
      "\n",
      "Sum of matrices (A + B):\n",
      "[40, 60]\n",
      "[42, 75]\n",
      "[50, 120]\n"
     ]
    }
   ],
   "source": [
    "n = int(input(\"Enter rows: \"))\n",
    "m = int(input(\"Enter columns: \"))\n",
    "\n",
    "print(\"Enter first matrix:\")\n",
    "A = [list(map(int, input().split())) for _ in range(n)]\n",
    "\n",
    "print(\"Enter second matrix:\")\n",
    "B = [list(map(int, input().split())) for _ in range(n)]\n",
    "\n",
    "print(\"\\nMatrix A:\")\n",
    "for row in A:\n",
    "    print(row)\n",
    "\n",
    "print(\"\\nMatrix B:\")\n",
    "for row in B:\n",
    "    print(row)\n",
    "\n",
    "result = [[A[i][j] + B[i][j] for j in range(m)] for i in range(n)]\n",
    "\n",
    "\n",
    "print(\"\\nSum of matrices (A + B):\")\n",
    "for row in result:\n",
    "    print(row)\n"
   ]
  },
  {
   "cell_type": "markdown",
   "id": "87468394",
   "metadata": {},
   "source": [
    "Q: 10 Write a program to multiply two matrices "
   ]
  },
  {
   "cell_type": "code",
   "execution_count": 22,
   "id": "ce67b824",
   "metadata": {},
   "outputs": [
    {
     "name": "stdout",
     "output_type": "stream",
     "text": [
      "Enter first matrix:\n",
      "Enter second matrix:\n",
      "\n",
      "Matrix A:\n",
      "[10, 20]\n",
      "[40, 60]\n",
      "\n",
      "Matrix B:\n",
      "[90, 30]\n",
      "[50, 70]\n",
      "\n",
      "Product of matrices (A × B):\n",
      "[1900, 1700]\n",
      "[6600, 5400]\n"
     ]
    }
   ],
   "source": [
    "n = int(input(\"Enter rows of first matrix: \"))\n",
    "m = int(input(\"Enter columns of first matrix / rows of second matrix: \"))\n",
    "p = int(input(\"Enter columns of second matrix: \"))\n",
    "\n",
    "print(\"Enter first matrix:\")\n",
    "A = [list(map(int, input().split())) for _ in range(n)]\n",
    "\n",
    "print(\"Enter second matrix:\")\n",
    "B = [list(map(int, input().split())) for _ in range(m)]\n",
    "\n",
    "print(\"\\nMatrix A:\")\n",
    "for row in A:\n",
    "    print(row)\n",
    "\n",
    "print(\"\\nMatrix B:\")\n",
    "for row in B:\n",
    "    print(row)\n",
    "\n",
    "result = [[0]*p for _ in range(n)]\n",
    "\n",
    "for i in range(n):\n",
    "    for j in range(p):\n",
    "        for k in range(m):\n",
    "            result[i][j] += A[i][k] * B[k][j]\n",
    "\n",
    "print(\"\\nProduct of matrices (A × B):\")\n",
    "for row in result:\n",
    "    print(row)\n"
   ]
  },
  {
   "cell_type": "code",
   "execution_count": null,
   "id": "d25e4b94",
   "metadata": {},
   "outputs": [],
   "source": []
  },
  {
   "cell_type": "code",
   "execution_count": null,
   "id": "9429afe0",
   "metadata": {},
   "outputs": [],
   "source": []
  },
  {
   "cell_type": "code",
   "execution_count": null,
   "id": "3c6b999d",
   "metadata": {},
   "outputs": [],
   "source": []
  }
 ],
 "metadata": {
  "kernelspec": {
   "display_name": "Python 3",
   "language": "python",
   "name": "python3"
  },
  "language_info": {
   "codemirror_mode": {
    "name": "ipython",
    "version": 3
   },
   "file_extension": ".py",
   "mimetype": "text/x-python",
   "name": "python",
   "nbconvert_exporter": "python",
   "pygments_lexer": "ipython3",
   "version": "3.13.5"
  }
 },
 "nbformat": 4,
 "nbformat_minor": 5
}
